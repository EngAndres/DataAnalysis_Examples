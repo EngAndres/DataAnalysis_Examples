{
  "nbformat": 4,
  "nbformat_minor": 0,
  "metadata": {
    "colab": {
      "name": "AnálisisHUN.ipynb",
      "provenance": [],
      "authorship_tag": "ABX9TyPrTVmv4sxj2FWeC6QwOUQk",
      "include_colab_link": true
    },
    "kernelspec": {
      "name": "python3",
      "display_name": "Python 3"
    }
  },
  "cells": [
    {
      "cell_type": "markdown",
      "metadata": {
        "id": "view-in-github",
        "colab_type": "text"
      },
      "source": [
        "<a href=\"https://colab.research.google.com/github/EngAndres/DataAnalysis_Examples/blob/master/An%C3%A1lisisHUN.ipynb\" target=\"_parent\"><img src=\"https://colab.research.google.com/assets/colab-badge.svg\" alt=\"Open In Colab\"/></a>"
      ]
    },
    {
      "cell_type": "markdown",
      "metadata": {
        "id": "sbkKzEn_GuHY",
        "colab_type": "text"
      },
      "source": [
        "# ANÁLISIS DE LA INFORMACIÓN RECOPILADA DEL HUN\n",
        "\n",
        "A continuación se muestra de manera breve un análisis de los archivos de Excel recibidos, en donde se busca comparar las listas de correos recibidas, y contrastarlas contra los registros de diligenciamiento de la app de MeCuido UNAL."
      ]
    },
    {
      "cell_type": "markdown",
      "metadata": {
        "id": "QAZO7WVBHcos",
        "colab_type": "text"
      },
      "source": [
        "A continuación se muestra el primer archivo de correos recibido, el cual consta de 25 usuarios con los cuales se inicio el piloto con el HUN. Para este caso, se tiene que todos los correos relacionados cumplen con el formato esperado, el cual corresponde al dominio @hun.edu.co."
      ]
    },
    {
      "cell_type": "code",
      "metadata": {
        "id": "2IubyCakHly3",
        "colab_type": "code",
        "colab": {
          "base_uri": "https://localhost:8080/",
          "height": 503
        },
        "outputId": "07627e4e-419f-46dc-974d-3320a81ec66e"
      },
      "source": [
        "import pandas as pd\n",
        "\n",
        "df_hun_list_1 = pd.read_csv(\"HUN.csv\") \n",
        "df_hun_list_1['name'] = df_hun_list_1['firstName'] + \" \" + df_hun_list_1['lastName']\n",
        "df_hun_list_1 = df_hun_list_1.drop(['firstName', 'lastName', 'cellphone'], axis = 1)\n",
        "df_hun_list_1 = df_hun_list_1.sort_index(axis = 1)\n",
        "print(df_hun_list_1)"
      ],
      "execution_count": 3,
      "outputs": [
        {
          "output_type": "stream",
          "text": [
            "                              email  ...  role\n",
            "0            jairo.perez@hun.edu.co  ...   med\n",
            "1   dianapatricia.alfonso@gmail.com  ...   med\n",
            "2           maria.ospina@hun.edu.co  ...   med\n",
            "3       carmelo.espinosa@hun.edu.co  ...   med\n",
            "4         gustavo.acosta@hun.edu.co  ...   med\n",
            "5           oscar.moreno@hun.edu.co  ...   med\n",
            "6            javier.mora@hun.edu.co  ...   med\n",
            "7        diego.tibavizco@hun.edu.co  ...   med\n",
            "8        oscar.contreras@hun.edu.co  ...   med\n",
            "9            hector.ruiz@hun.edu.co  ...   med\n",
            "10          laura.garcia@hun.edu.co  ...   med\n",
            "11        sergio.vallejo@hun.edu.co  ...   med\n",
            "12        mayra.guarnizo@hun.edu.co  ...   med\n",
            "13           laura.nocua@hun.edu.co  ...   med\n",
            "14          yina.benitez@hun.edu.co  ...   med\n",
            "15           brian.gomez@hun.edu.co  ...   med\n",
            "16          felipe.muñoz@hun.edu.co  ...   med\n",
            "17          eduardo.leon@hun.edu.co  ...   med\n",
            "18         camila.ardila@hun.edu.co  ...   med\n",
            "19          candida.diaz@hun.edu.co  ...   med\n",
            "20             john.mora@hun.edu.co  ...   med\n",
            "21         ingrid.moreno@hun.edu.co  ...   med\n",
            "22         jairo.guevara@hun.edu.co  ...   med\n",
            "23        claudia.obando@hun.edu.co  ...   med\n",
            "24           juan.trejos@hun.edu.co  ...   med\n",
            "\n",
            "[25 rows x 4 columns]\n"
          ],
          "name": "stdout"
        }
      ]
    },
    {
      "cell_type": "markdown",
      "metadata": {
        "id": "7SJOAomBImF8",
        "colab_type": "text"
      },
      "source": [
        "Luego, se recibió un segundo archivo, con un listado más grande de personas del HUN. En este caso se encontraban 150 personas registradas, pero ya se hizo evidente que no todas las personas habían relacionado un correo con el dominio correcto. Se tienen correos con dominio @hotmail, @gmail, y @unal.edu.co. Esto dificulta la trazabilidad de respuestas de los miembros del HUN."
      ]
    },
    {
      "cell_type": "code",
      "metadata": {
        "id": "DZS3aTZIIMb8",
        "colab_type": "code",
        "colab": {
          "base_uri": "https://localhost:8080/",
          "height": 260
        },
        "outputId": "6b40dd83-eda7-401d-d9fc-732ea2e9ab0a"
      },
      "source": [
        "df_hun_list_2 = pd.read_csv(\"hun2.csv\") \n",
        "df_hun_list_2 = df_hun_list_2.sort_index(axis = 1)\n",
        "print(df_hun_list_2)"
      ],
      "execution_count": 4,
      "outputs": [
        {
          "output_type": "stream",
          "text": [
            "                           email  ...              role\n",
            "0    gabriel.bejarano@hun.edu.co  ...           aux_enf\n",
            "1        daniel.calvo@hun.edu.co  ...           aux_enf\n",
            "2        alba.mahecha@hun.edu.co  ...           aux_enf\n",
            "3       alexy.giraldo@hun.edu.co  ...           aux_enf\n",
            "4       yolycopete01@hotmail.com  ...           aux_enf\n",
            "..                           ...  ...               ...\n",
            "145       hector.ruiz@hun.edu.co  ...  med_intensivista\n",
            "146       brian.gomez@hun.edu.co  ...  med_intensivista\n",
            "147       jairo.perez@hun.edu.co  ...  med_intensivista\n",
            "148         jose.ruiz@hun.edu.co  ...  med_intensivista\n",
            "149      fredy.garzon@hun.edu.co  ...  med_intensivista\n",
            "\n",
            "[150 rows x 4 columns]\n"
          ],
          "name": "stdout"
        }
      ]
    },
    {
      "cell_type": "markdown",
      "metadata": {
        "id": "LpbKS2uFJZ5N",
        "colab_type": "text"
      },
      "source": [
        "Sin embargo, para mayor claridad con el HUN, se van a  hacer algunos análisis basados en estos dos archivos. Primero, se verifica la cantidad de correos iguales que se encuentran relacionados en ambas listas. En este caso, se tienen 22 correos en común entre las dos listas, siendo casi la totalidad de la primera lista recibida por el equipo de MeCuido UNAL."
      ]
    },
    {
      "cell_type": "code",
      "metadata": {
        "id": "R8M6uzJAJob5",
        "colab_type": "code",
        "colab": {
          "base_uri": "https://localhost:8080/",
          "height": 451
        },
        "outputId": "986110aa-ec13-4ed4-cad9-e474de27fb17"
      },
      "source": [
        "df_common = pd.merge(df_hun_list_1, df_hun_list_2, how='inner', on=['id'])\n",
        "print(df_common)"
      ],
      "execution_count": 5,
      "outputs": [
        {
          "output_type": "stream",
          "text": [
            "                        email_x  ...                            role_y\n",
            "0        jairo.perez@hun.edu.co  ...                  med_intensivista\n",
            "1       maria.ospina@hun.edu.co  ...                  med_intensivista\n",
            "2   carmelo.espinosa@hun.edu.co  ...                  med_intensivista\n",
            "3     gustavo.acosta@hun.edu.co  ...                  med_intensivista\n",
            "4       oscar.moreno@hun.edu.co  ...                  med_intensivista\n",
            "5        javier.mora@hun.edu.co  ...                  med_intensivista\n",
            "6    diego.tibavizco@hun.edu.co  ...                  med_intensivista\n",
            "7    oscar.contreras@hun.edu.co  ...                  med_intensivista\n",
            "8        hector.ruiz@hun.edu.co  ...                  med_intensivista\n",
            "9       laura.garcia@hun.edu.co  ...  med_especialista_no_intensivista\n",
            "10    sergio.vallejo@hun.edu.co  ...  med_especialista_no_intensivista\n",
            "11    mayra.guarnizo@hun.edu.co  ...  med_especialista_no_intensivista\n",
            "12       laura.nocua@hun.edu.co  ...  med_especialista_no_intensivista\n",
            "13      yina.benitez@hun.edu.co  ...  med_especialista_no_intensivista\n",
            "14       brian.gomez@hun.edu.co  ...                  med_intensivista\n",
            "15      felipe.muñoz@hun.edu.co  ...                  med_hospitalario\n",
            "16      eduardo.leon@hun.edu.co  ...                  med_hospitalario\n",
            "17     camila.ardila@hun.edu.co  ...                  med_hospitalario\n",
            "18      candida.diaz@hun.edu.co  ...                  med_hospitalario\n",
            "19         john.mora@hun.edu.co  ...                  med_hospitalario\n",
            "20     ingrid.moreno@hun.edu.co  ...                  med_hospitalario\n",
            "21     jairo.guevara@hun.edu.co  ...                  med_hospitalario\n",
            "\n",
            "[22 rows x 7 columns]\n"
          ],
          "name": "stdout"
        }
      ]
    },
    {
      "cell_type": "markdown",
      "metadata": {
        "id": "uUpiIiHyJ7Ow",
        "colab_type": "text"
      },
      "source": [
        "Luego de ver que si se teníían correos en comúún entre las dos listas, se procede a generar una sola lista consolidada que facilite el seguimiento en la app. Luego de unifircarlas, se logra tener una lista con 153 correos distintos que sería la totalidad de usuarios reportados por parte del HUN."
      ]
    },
    {
      "cell_type": "code",
      "metadata": {
        "id": "LoFmbtVQJ9tq",
        "colab_type": "code",
        "colab": {
          "base_uri": "https://localhost:8080/",
          "height": 260
        },
        "outputId": "e96d7080-faaa-40ff-ac4d-e6320b05bd42"
      },
      "source": [
        "df_total_lista = pd.concat([df_hun_list_1, df_hun_list_2])\n",
        "df_total_lista = df_total_lista.drop_duplicates(subset =\"id\")\n",
        "print(df_total_lista)"
      ],
      "execution_count": 6,
      "outputs": [
        {
          "output_type": "stream",
          "text": [
            "                               email  ...              role\n",
            "0             jairo.perez@hun.edu.co  ...               med\n",
            "1    dianapatricia.alfonso@gmail.com  ...               med\n",
            "2            maria.ospina@hun.edu.co  ...               med\n",
            "3        carmelo.espinosa@hun.edu.co  ...               med\n",
            "4          gustavo.acosta@hun.edu.co  ...               med\n",
            "..                               ...  ...               ...\n",
            "135  mariapaulamendoza18@hotmail.com  ...  med_hospitalario\n",
            "136   erickjosevegabarraza@gmail.com  ...  med_hospitalario\n",
            "137               catafg@hotmail.com  ...  med_hospitalario\n",
            "148             jose.ruiz@hun.edu.co  ...  med_intensivista\n",
            "149          fredy.garzon@hun.edu.co  ...  med_intensivista\n",
            "\n",
            "[153 rows x 4 columns]\n"
          ],
          "name": "stdout"
        }
      ]
    },
    {
      "cell_type": "markdown",
      "metadata": {
        "id": "3QUTH_oNKeWj",
        "colab_type": "text"
      },
      "source": [
        "Sobre esta lista de 153 correos reportados, se hace la validación de cuántos se tienen en el dominio esperado (@hun.edu.co). En este caso, se tiene que de los 153 correos solo 97 corresponden al dominio del HUN, siendo el 63,4% del total de registros."
      ]
    },
    {
      "cell_type": "markdown",
      "metadata": {
        "id": "Fda9ImKaNNTz",
        "colab_type": "text"
      },
      "source": [
        ""
      ]
    },
    {
      "cell_type": "code",
      "metadata": {
        "id": "jklF_1TxKfpq",
        "colab_type": "code",
        "colab": {
          "base_uri": "https://localhost:8080/",
          "height": 260
        },
        "outputId": "664b64f0-118d-4d2a-e4dc-69e75558c472"
      },
      "source": [
        "df_lista_validos = df_total_lista[ df_total_lista['email'].str.contains('@hun.edu.co')]\n",
        "print(df_lista_validos)"
      ],
      "execution_count": 7,
      "outputs": [
        {
          "output_type": "stream",
          "text": [
            "                           email  ...                              role\n",
            "0         jairo.perez@hun.edu.co  ...                               med\n",
            "2        maria.ospina@hun.edu.co  ...                               med\n",
            "3    carmelo.espinosa@hun.edu.co  ...                               med\n",
            "4      gustavo.acosta@hun.edu.co  ...                               med\n",
            "5        oscar.moreno@hun.edu.co  ...                               med\n",
            "..                           ...  ...                               ...\n",
            "117       july.torres@hun.edu.co  ...  med_especialista_no_intensivista\n",
            "118     monica.pulido@hun.edu.co  ...  med_especialista_no_intensivista\n",
            "119      jesus.jaimes@hun.edu.co  ...  med_especialista_no_intensivista\n",
            "148         jose.ruiz@hun.edu.co  ...                  med_intensivista\n",
            "149      fredy.garzon@hun.edu.co  ...                  med_intensivista\n",
            "\n",
            "[97 rows x 4 columns]\n"
          ],
          "name": "stdout"
        }
      ]
    },
    {
      "cell_type": "markdown",
      "metadata": {
        "id": "EwMQGOtkL8PP",
        "colab_type": "text"
      },
      "source": [
        "Sin embargo, en el orden de entender algunas ideas, también se verifica cuántos correos son del dominio de la UNAL (unal.edu.co), lo cual puede ser un error común por ser la costumbre colocar estos correos. En este caso, se tiene que de los 153 correos, 11 tienen el dominio válido de la UNAL (7,2%)."
      ]
    },
    {
      "cell_type": "code",
      "metadata": {
        "id": "6hpPqFuoMBLr",
        "colab_type": "code",
        "colab": {
          "base_uri": "https://localhost:8080/",
          "height": 260
        },
        "outputId": "efb1ab73-b2e8-45f6-a540-5be4e9a7c292"
      },
      "source": [
        "df_lista_casi_validos = df_total_lista[ df_total_lista['email'].str.contains('@unal.edu.co')]\n",
        "print(df_lista_casi_validos)"
      ],
      "execution_count": 8,
      "outputs": [
        {
          "output_type": "stream",
          "text": [
            "                        email  ...                              role\n",
            "48    eljimenezlo@unal.edu.co  ...                           aux_enf\n",
            "76     anprojasro@unal.edu.co  ...                               enf\n",
            "82      vfvargasl@unal.edu.co  ...                               enf\n",
            "96      iaalonsob@unal.edu.co  ...                    fisioterapeuta\n",
            "97       jbalcero@unal.edu.co  ...                    fisioterapeuta\n",
            "104   jucpulidogu@unal.edu.co  ...  med_especialista_no_intensivista\n",
            "128  anfcordobape@unal.edu.co  ...                  med_hospitalario\n",
            "130       aflealr@unal.edu.co  ...                  med_hospitalario\n",
            "131  ndelgadillom@unal.edu.co  ...                  med_hospitalario\n",
            "132    bsmancerah@unal.edu.co  ...                  med_hospitalario\n",
            "133   seimedinaro@unal.edu.co  ...                  med_hospitalario\n",
            "\n",
            "[11 rows x 4 columns]\n"
          ],
          "name": "stdout"
        }
      ]
    },
    {
      "cell_type": "markdown",
      "metadata": {
        "id": "XLLw9xieNes4",
        "colab_type": "text"
      },
      "source": [
        "Con respecto a la cantidad de respuestas relacionadas al formulario de auto-chequeo que tiene la app de MeCuido UNAL, se tiene que en la base de datos hay 437 correos en registros de diligenciamiento."
      ]
    },
    {
      "cell_type": "code",
      "metadata": {
        "id": "Ht6GGoluNfzw",
        "colab_type": "code",
        "colab": {
          "base_uri": "https://localhost:8080/",
          "height": 260
        },
        "outputId": "08cd1477-6a1a-4c0f-9568-24dbfb70a50a"
      },
      "source": [
        "df_cuentas = pd.read_csv(\"cuentas.csv\") \n",
        "df_cuentas = df_cuentas[['email', 'id', 'name']]\n",
        "print(df_cuentas)"
      ],
      "execution_count": 12,
      "outputs": [
        {
          "output_type": "stream",
          "text": [
            "                            email  ...                                name\n",
            "0            apmorenoh@icloud.com  ...                Allison Paola Moreno\n",
            "1        angegonzalez@unal.edu.co  ...                Ángel Mateo Gonzalez\n",
            "2      crarodriguezra@unal.edu.co  ...  Cristian Augusto Rodriguez Ramirez\n",
            "3    mamieballard.79362@gmail.com  ...                       Mamie Ballard\n",
            "4             sescoba@unal.edu.co  ...              SANTIAGO ESCOBAR HOYOS\n",
            "..                            ...  ...                                 ...\n",
            "432          paguties@unal.edu.co  ...      Pablo Andres Gutierrez Sanchez\n",
            "433         namontanadi@gmail.com  ...                 Andrea Montaña Díaz\n",
            "434             dmelo@unal.edu.co  ...         Daniel Alejandro Melo Nuvan\n",
            "435    diego.tibavizco@hun.edu.co  ...  Diego Alejandro Tibavisco Palacios\n",
            "436     katheryne.diiaz@gmail.com  ...                          Kathe Diaz\n",
            "\n",
            "[437 rows x 3 columns]\n"
          ],
          "name": "stdout"
        }
      ]
    },
    {
      "cell_type": "markdown",
      "metadata": {
        "id": "FOybmdy4Nf97",
        "colab_type": "text"
      },
      "source": [
        "Luego de revisar todas las respuestas, y contrastar contra la lista de correos válidos con el dominio del HUN, se tienen solamente 10 correos diferentes en este listado de respuestas."
      ]
    },
    {
      "cell_type": "code",
      "metadata": {
        "id": "85-kPsZRNgMb",
        "colab_type": "code",
        "colab": {
          "base_uri": "https://localhost:8080/",
          "height": 243
        },
        "outputId": "57993d88-0eb7-463f-a3fd-0e862a5c3f35"
      },
      "source": [
        "df_answers_hun = pd.merge(df_lista_validos, df_cuentas, how='inner', on=['email'])\n",
        "print(df_answers_hun)"
      ],
      "execution_count": 13,
      "outputs": [
        {
          "output_type": "stream",
          "text": [
            "                         email  ...                              name_y\n",
            "0       jairo.perez@hun.edu.co  ...            Jairo Antonio Perez Cely\n",
            "1    gustavo.acosta@hun.edu.co  ...       GUSTAVO ADOLFO ACOSTA RICAUTE\n",
            "2      oscar.moreno@hun.edu.co  ...         OSCAR MAURICIO MORENO OJEDA\n",
            "3       javier.mora@hun.edu.co  ...          Javier Andres Mora Arteaga\n",
            "4   diego.tibavizco@hun.edu.co  ...  Diego Alejandro Tibavisco Palacios\n",
            "5       hector.ruiz@hun.edu.co  ...            Hector Andres Ruiz Avila\n",
            "6      laura.garcia@hun.edu.co  ...          Laura Melissa Garcia Muñoz\n",
            "7    gloria.galeano@hun.edu.co  ...        Gloria Lucia Galenao Ramirez\n",
            "8  nathaly.gonzalez@hun.edu.co  ...              NATHALY GONZALEZ PABÓN\n",
            "9   martha.restrepo@hun.edu.co  ...     Martha Alejandra Restrepo Arias\n",
            "\n",
            "[10 rows x 6 columns]\n"
          ],
          "name": "stdout"
        }
      ]
    },
    {
      "cell_type": "markdown",
      "metadata": {
        "id": "K7QlqjeCNgeG",
        "colab_type": "text"
      },
      "source": [
        "Incluso, cuando se validan todos los correos relacionados en la lista de 153 usuarios, solo se encuentran 11 de los 153 usuarios reportados con respuesta en la app. "
      ]
    },
    {
      "cell_type": "code",
      "metadata": {
        "id": "7-xbZANqNgoC",
        "colab_type": "code",
        "colab": {
          "base_uri": "https://localhost:8080/",
          "height": 260
        },
        "outputId": "381bee07-c591-4493-ab47-0c824f44dee0"
      },
      "source": [
        "df_answers_total = pd.merge(df_total_lista, df_cuentas, how='inner', on=['email'])\n",
        "print(df_answers_total)\n"
      ],
      "execution_count": 14,
      "outputs": [
        {
          "output_type": "stream",
          "text": [
            "                          email  ...                              name_y\n",
            "0        jairo.perez@hun.edu.co  ...            Jairo Antonio Perez Cely\n",
            "1     gustavo.acosta@hun.edu.co  ...       GUSTAVO ADOLFO ACOSTA RICAUTE\n",
            "2       oscar.moreno@hun.edu.co  ...         OSCAR MAURICIO MORENO OJEDA\n",
            "3        javier.mora@hun.edu.co  ...          Javier Andres Mora Arteaga\n",
            "4    diego.tibavizco@hun.edu.co  ...  Diego Alejandro Tibavisco Palacios\n",
            "5        hector.ruiz@hun.edu.co  ...            Hector Andres Ruiz Avila\n",
            "6       laura.garcia@hun.edu.co  ...          Laura Melissa Garcia Muñoz\n",
            "7     gloria.galeano@hun.edu.co  ...        Gloria Lucia Galenao Ramirez\n",
            "8   nathaly.gonzalez@hun.edu.co  ...              NATHALY GONZALEZ PABÓN\n",
            "9            ymiguezd@gmail.com  ...                        Yeimy Miguez\n",
            "10   martha.restrepo@hun.edu.co  ...     Martha Alejandra Restrepo Arias\n",
            "\n",
            "[11 rows x 6 columns]\n"
          ],
          "name": "stdout"
        }
      ]
    },
    {
      "cell_type": "markdown",
      "metadata": {
        "id": "528l6RJ_Q4Ou",
        "colab_type": "text"
      },
      "source": [
        "Luego de revisar toda la información recopilada, se tienen las siguientes conclusiones:\n",
        "\n",
        "\n",
        "1.   Del listado de usuarios que se recibio del HUN, un porcentaje considerable de correos no tienen el dominio correspondiente, lo que hace difícil la trazabilidad de estos usuarios y la asociación con el HUN.\n",
        "2.   Muy pocos usuarios han hecho uso del correo del HUN para diligenciar la aplicación. El error puede estar relacionado a que el registro se haga directamente con el AppleID o con un correo distinto, probablemente el que está asociado como primario en el celular.\n",
        "\n"
      ]
    },
    {
      "cell_type": "code",
      "metadata": {
        "id": "KqVlnbftQ9zg",
        "colab_type": "code",
        "colab": {}
      },
      "source": [
        ""
      ],
      "execution_count": null,
      "outputs": []
    }
  ]
}
